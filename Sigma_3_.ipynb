{
  "nbformat": 4,
  "nbformat_minor": 0,
  "metadata": {
    "colab": {
      "provenance": []
    },
    "kernelspec": {
      "name": "python3",
      "display_name": "Python 3"
    },
    "language_info": {
      "name": "python"
    }
  },
  "cells": [
    {
      "cell_type": "code",
      "execution_count": null,
      "metadata": {
        "id": "wyefISs_wJGK"
      },
      "outputs": [],
      "source": [
        "def Sigma3(n):\n",
        "  #Cuerpo de la funcion Sigma3\n",
        "  suma = 0\n",
        "if n > 0:\n",
        "  for i in range(1,n+1):\n",
        "    if (n%i):\n",
        "      suma += (i**3)\n",
        "    return suma\n",
        "else:\n",
        "  return(\"El numero debe ser positivo\")\n",
        "\n"
      ]
    }
  ]
}