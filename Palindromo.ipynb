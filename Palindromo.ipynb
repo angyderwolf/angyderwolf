{
  "nbformat": 4,
  "nbformat_minor": 0,
  "metadata": {
    "colab": {
      "provenance": []
    },
    "kernelspec": {
      "name": "python3",
      "display_name": "Python 3"
    },
    "language_info": {
      "name": "python"
    }
  },
  "cells": [
    {
      "cell_type": "code",
      "execution_count": null,
      "metadata": {
        "id": "wyefISs_wJGK"
      },
      "outputs": [],
      "source": [
        "def palindromo():\n",
        "  resultado = 0\n",
        "  for a in range(999, 100, -1):\n",
        "    for b in range(a, 100, -1):\n",
        "        x = a * b\n",
        "        if x > resultado:\n",
        "            s = str(a * b)\n",
        "            if s == s[::-1]:\n",
        "                resultado = a * b\n",
        "  print(resultado)\n",
        "    \n",
        "\n",
        "  \n",
        "def main():\n",
        "  palindromo()\n",
        "  \n",
        "main()\n",
        "\n"
      ]
    }
  ]
}