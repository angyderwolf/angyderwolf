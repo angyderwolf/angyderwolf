{
  "nbformat": 4,
  "nbformat_minor": 0,
  "metadata": {
    "colab": {
      "provenance": []
    },
    "kernelspec": {
      "name": "python3",
      "display_name": "Python 3"
    },
    "language_info": {
      "name": "python"
    }
  },
  "cells": [
    {
      "cell_type": "code",
      "execution_count": null,
      "metadata": {
        "id": "wyefISs_wJGK"
      },
      "outputs": [],
      "source": [
        "def Square_Diff(n):\n",
        "  numerosnat = (n * (n + 1) * (2 * n + 1)) / 6 \n",
        "  cuadrasuma = (n * (n + 1)) / 2\n",
        "  cuadrasuma = cuadrasuma ** 2\n",
        "  diferencia = abs(numerosnat - cuadrasuma)\n",
        "  return int(diferencia)\n",
        " \n",
        "# Driver code\n",
        "print(Square_Diff(10))\n"
      ]
    }
  ]
}