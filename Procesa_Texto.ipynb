{
  "nbformat": 4,
  "nbformat_minor": 0,
  "metadata": {
    "colab": {
      "provenance": []
    },
    "kernelspec": {
      "name": "python3",
      "display_name": "Python 3"
    },
    "language_info": {
      "name": "python"
    }
  },
  "cells": [
    {
      "cell_type": "code",
      "execution_count": null,
      "metadata": {
        "id": "B_pojYLfsXpo"
      },
      "outputs": [],
      "source": [
        "\n",
        "  # Programa desarrollado para revisión de textos en Python.\n",
        "def procesa_texto():\n",
        "  cadena = \"¿Y la mente? ¿Trabaja en ella? ¿Hace yoga, medita? \\n\\\n",
        "–Nunca lo he hecho. Pienso que las cosas salen de forma natural. \\n\\\n",
        "No hacen falta el yoga ni la meditación. \\n\\\n",
        "Soy más partidario del esfuerzo diario, del entrenarse cuando no apetece, \\n\\\n",
        "cuando aparecen los dolores. Lo he hecho siempre, desde pequeñito.\\n\\\n",
        "Me ayudó Toni (su tío y ex entrenador) y yo mismo me ayudo a ser mejor. \\n\\\n",
        "Eso se hace con la determinación y la voluntad de querer hacerlo.\\n\\\n",
        "RAFAEL NADAL, Campeón Roland Garros 2020\\n\"\n",
        "  mayusculas = []\n",
        "  minusculas = []\n",
        "  acentos = []\n",
        "  numeros = []\n",
        "  espacios = []\n",
        "  especiales = []\n",
        "  for i in range(len(cadena)):\n",
        "    if (cadena[i] == 'á') or (cadena[i] == 'é') or (cadena[i] == 'í')      or (cadena[i] == 'ú') or (cadena[i] == 'ó'):\n",
        "      acentos += cadena[i]\n",
        "    if cadena[i].isupper():\n",
        "      mayusculas += cadena[i]\n",
        "    elif cadena[i].islower():\n",
        "      minusculas += cadena[i]\n",
        "    elif cadena[i].isspace():\n",
        "      espacios += cadena[i]\n",
        "    elif cadena[i].isnumeric():\n",
        "      numeros += cadena[i]\n",
        "    else:\n",
        "      especiales += cadena[i]\n",
        "\n",
        "\n",
        "  palabras = cadena.split()\n",
        "  promedio = (len(cadena.split()))/8\n",
        "\n",
        "\n",
        "\n",
        "\n",
        "  print(len(minusculas),len(mayusculas), len(acentos), len(numeros),len(espacios),len(especiales), len(palabras),promedio)\n",
        "    \n",
        "      \n"
        " \n",
        "  \n",
        "def main():\n",
        "  procesa_texto()\n",
        "  \n",
        "main()\n"
      ]
    }
  ]
}
