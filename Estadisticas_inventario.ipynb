{
  "nbformat": 4,
  "nbformat_minor": 0,
  "metadata": {
    "colab": {
      "provenance": []
    },
    "kernelspec": {
      "name": "python3",
      "display_name": "Python 3"
    },
    "language_info": {
      "name": "python"
    }
  },
  "cells": [
    {
      "cell_type": "code",
      "execution_count": null,
      "metadata": {
        "id": "wyefISs_wJGK"
      },
      "outputs": [],
      "source": [
        "def estadisticas(Inventario):\n",
        "    Cantidad = 0\n",
        "    Promedio = 0\n",
        "    for i in range(len(Inventario)):\n",
        "        Cantidad += Inventario[i][2]\n",
        "        Promedio += Inventario[i][3]\n",
        "    \n",
        "    print(Cantidad, Promedio/len(Inventario))"
      ]
    }
  ]
}