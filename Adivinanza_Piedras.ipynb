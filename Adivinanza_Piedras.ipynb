{
  "nbformat": 4,
  "nbformat_minor": 0,
  "metadata": {
    "colab": {
      "provenance": []
    },
    "kernelspec": {
      "name": "python3",
      "display_name": "Python 3"
    },
    "language_info": {
      "name": "python"
    }
  },
  "cells": [
    {
      "cell_type": "code",
      "execution_count": null,
      "metadata": {
        "id": "FngXTGArYa6T"
      },
      "outputs": [],
      "source": [
        "import random\n",
        "import time\n",
        "\n",
        "piedras = [1000]*9 + [980]\n",
        "random.shuffle(piedras)\n",
        "piedra1, piedra2, piedra3, piedra4, piedra5, piedra6, piedra7, piedra8, piedra9, piedra10 = piedras\n",
        "\n",
        "\n",
        "def balanza(intentos):\n",
        "    suma_balizq = 0\n",
        "    suma_balder = 0\n",
        "    while(intentos > 0):\n",
        "        bal_izq = input(\"¿Qué piedras quieres poner en la balanza izquierda? \")\n",
        "        balizq = list(map(int, bal_izq.split(\",\")))\n",
        "        for i in range(len(balizq)):\n",
        "            suma_balizq += int(piedras[balizq[i]-1])\n",
        "        bal_der = input(\"¿Y cuáles al plato derecho? \")\n",
        "        balder = list(map(int, bal_der.split(\",\")))\n",
        "        for j in range(len(balder)):\n",
        "            suma_balder += int(piedras[balder[j]-1])\n",
        "        if suma_balder == suma_balizq:\n",
        "            print(\"Las balanzas se equilibran\")\n",
        "        elif suma_balder > suma_balizq:\n",
        "            print(\"La balanza se inclina a la derecha\")\n",
        "        else:\n",
        "            print(\"La balanza se inclina a la izquierda\")\n",
        "\n",
        "\n",
        "\n",
        "        suma_balizq = 0\n",
        "        suma_balder = 0\n",
        "        intentos -= 1\n",
        "\n",
        "    respuesta = input(\"¿Cuál es la piedra que pesa menos? \")\n",
        "    if piedras[int(respuesta)-1] == 980:\n",
        "        print(\"Felicidades joven, puede llevarse el oro\")\n",
        "    else:\n",
        "        print(\"Se ha equivocado, siga su camino.\")\n",
        "\n",
        "\n",
        "\n",
        "print(\"Vas caminando por un río, recogiendo piedras.\")\n",
        "time.sleep(1)\n",
        "print(\"Al llenar tu cubeta, un anciano se acerca a revisarlas.\")\n",
        "time.sleep(1.5)\n",
        "print(\"Después de separar 10, te comenta que son de oro y para conservarlas\")\n",
        "time.sleep(1.5)\n",
        "print(\"deberás jugar con él, ya que 9 pesan 1 kg y la otra 980 gramos.\")\n",
        "time.sleep(1.5)\n",
        "print(\"Indetectable a simple vista, solo tienes una balanza de platos,\")\n",
        "time.sleep(1.5)\n",
        "print(\"además, deberás lanzar un dado para obtener una cantidad de intentos.\")\n",
        "time.sleep(1.5)\n",
        "respuesta = input(\"¿Quieres conservar las piedras? \")\n",
        "\n",
        "if respuesta.lower() == \"si\":\n",
        "    intentos = random.randint(1, 6)\n",
        "    if intentos == 1:\n",
        "        print(f\"Has lanzado el dado y ha salido el número {intentos}, tienes {intentos} intento\")\n",
        "    else:\n",
        "        print(f\"Has lanzado el dado y ha salido el número {intentos}, tienes {intentos} intentos\")\n",
        "    balanza(intentos)\n",
        "else:\n",
        "    print(\"Sigue tu camino, viajero.\")\n",
        "\n",
        "\n",
        "\n",
        "\n",
        "\n",
        "\n"
      ]
    }
  ]
}