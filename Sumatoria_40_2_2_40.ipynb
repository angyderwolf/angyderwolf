{
  "nbformat": 4,
  "nbformat_minor": 0,
  "metadata": {
    "colab": {
      "provenance": []
    },
    "kernelspec": {
      "name": "python3",
      "display_name": "Python 3"
    },
    "language_info": {
      "name": "python"
    }
  },
  "cells": [
    {
      "cell_type": "code",
      "execution_count": null,
      "metadata": {
        "id": "wyefISs_wJGK"
      },
      "outputs": [],
      "source": [
        "def sumatoria():\n",
        "  suma = 0\n",
        "  n = 40\n",
        "  for i in range(2,41, 2):\n",
        "    suma += (i / n)\n",
        "    n -= 2\n",
        "  suma2 = round(suma,2)\n",
        "  print(suma2)\n",
        "\n",
        "def main():\n",
        "  sumatoria()\n",
        "\n",
        "main()\n",
        "\n"
      ]
    },
    {
      "cell_type": "code",
      "source": [],
      "metadata": {
        "id": "Tab7nMdqyzD9"
      },
      "execution_count": null,
      "outputs": []
    }
  ]
}