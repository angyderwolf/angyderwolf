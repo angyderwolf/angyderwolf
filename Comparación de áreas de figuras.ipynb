{
  "nbformat": 4,
  "nbformat_minor": 0,
  "metadata": {
    "colab": {
      "provenance": []
    },
    "kernelspec": {
      "name": "python3",
      "display_name": "Python 3"
    },
    "language_info": {
      "name": "python"
    }
  },
  "cells": [
    {
      "cell_type": "code",
      "execution_count": 1,
      "metadata": {
        "colab": {
          "base_uri": "https://localhost:8080/",
          "height": 0
        },
        "id": "dOOwPVBut-jP",
        "outputId": "63c61b2f-5be4-4de1-db91-5fccd6bf174a"
      },
      "outputs": [
        {
          "output_type": "stream",
          "name": "stdout",
          "text": [
            "Este programa te solicitará 3 valores\n",
            "El primero es el radio de un círculo, el segundo\n",
            "el lado de un cuadrado y el tercero el de un hexágono.\n",
            "Dados estos datos, calculará las áreas y te dirá en orden\n",
            "ascendente cuál es su valor.\n",
            "Indica el radio de un círculo: 1\n",
            "Indica el lado de un cuadrado: 2\n",
            "Indica el lado de un hexágono: 3\n",
            "La 1° área es 23.383 u², correspondiente al hexágono.\n",
            "La 2° área es 4.0 u², correspondiente al cuadrado.\n",
            "La 3° área es 3.142 u², correspondiente al círculo.\n"
          ]
        }
      ],
      "source": [
        "import math\n",
        "import time\n",
        "\n",
        "\n",
        "print(\"Este programa te solicitará 3 valores\")\n",
        "time.sleep(1)\n",
        "print(\"El primero es el radio de un círculo, el segundo\")\n",
        "time.sleep(1)\n",
        "print(\"el lado de un cuadrado y el tercero el de un hexágono.\")\n",
        "time.sleep(1)\n",
        "print(\"Dados estos datos, calculará las áreas y te dirá en orden\")\n",
        "time.sleep(1)\n",
        "print(\"ascendente cuál es su valor.\")\n",
        "time.sleep(1)\n",
        "\n",
        "dimensiones = []\n",
        "\n",
        "radio = float(input(\"Indica el radio de un círculo: \"))\n",
        "dimensiones.append(radio)\n",
        "lado_cuadrado = float(input(\"Indica el lado de un cuadrado: \"))\n",
        "dimensiones.append(lado_cuadrado)\n",
        "lado_hexagono = float(input(\"Indica el lado de un hexágono: \"))\n",
        "dimensiones.append(lado_hexagono)\n",
        "\n",
        "\n",
        "area_circulo = round(math.pi * (dimensiones[0]**2), 3)\n",
        "area_cuadrado = round(dimensiones[1]**2, 3)\n",
        "area_hexagono = round(((3 * math.sqrt(3)) / 2) * (dimensiones[2]**2), 3)\n",
        "\n",
        "\n",
        "areas = [(area_circulo, \"círculo\"), (area_cuadrado, \"cuadrado\"), (area_hexagono, \"hexágono\")]\n",
        "\n",
        "\n",
        "areas_ordenadas = []\n",
        "while areas:\n",
        "    max_area = areas[0]\n",
        "    for area in areas:\n",
        "        if area[0] > max_area[0]:\n",
        "            max_area = area\n",
        "    areas.remove(max_area)\n",
        "    areas_ordenadas.append(max_area)\n",
        "\n",
        "\n",
        "for i, area in enumerate(areas_ordenadas, start=1):\n",
        "    print(f\"La {i}° área es {area[0]} u², correspondiente al {area[1]}.\")\n",
        ""
      ]
    }
  ]
}