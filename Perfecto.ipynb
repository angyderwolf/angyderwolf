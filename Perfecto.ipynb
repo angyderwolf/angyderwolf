{
  "nbformat": 4,
  "nbformat_minor": 0,
  "metadata": {
    "colab": {
      "provenance": []
    },
    "kernelspec": {
      "name": "python3",
      "display_name": "Python 3"
    },
    "language_info": {
      "name": "python"
    }
  },
  "cells": [
    {
      "cell_type": "code",
      "execution_count": null,
      "metadata": {
        "id": "wyefISs_wJGK"
      },
      "outputs": [],
      "source": [
        "def Perfecto(num):\n",
        "  #Cuerpo de la funcion Perfecto\n",
        "  suma = 0\n",
        "  if num >= 0:\n",
        "    for i in range(1, num):\n",
        "      if (num%i == 0):\n",
        "        suma += i\n",
        "    if suma == num:\n",
        "      return True\n",
        "    else: \n",
        "      return False\n",
        "  else:\n",
        "    return(\"El número debe ser positivo\")\n",
        "\n"
      ]
    },
    {
      "cell_type": "code",
      "source": [],
      "metadata": {
        "id": "Tab7nMdqyzD9"
      },
      "execution_count": null,
      "outputs": []
    }
  ]
}