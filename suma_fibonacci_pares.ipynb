{
  "nbformat": 4,
  "nbformat_minor": 0,
  "metadata": {
    "colab": {
      "provenance": []
    },
    "kernelspec": {
      "name": "python3",
      "display_name": "Python 3"
    },
    "language_info": {
      "name": "python"
    }
  },
  "cells": [
    {
      "cell_type": "code",
      "execution_count": null,
      "metadata": {
        "id": "wyefISs_wJGK"
      },
      "outputs": [],
      "source": [
        "def suma_fibonacci_pares():\n",
        "  suma = 0\n",
        "  x, y = 0, 1\n",
        "  while y < 4000000:\n",
        "    if y % 2 == 0:\n",
        "      suma += y\n",
        "    x,y = y, x+y\n",
        "  print(suma)\n",
        "def main():\n",
        "  suma_fibonacci_pares()\n",
        "main()\n",
        "\n"
      ]
    }
  ]
}