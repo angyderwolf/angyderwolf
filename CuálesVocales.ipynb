{
  "nbformat": 4,
  "nbformat_minor": 0,
  "metadata": {
    "colab": {
      "provenance": []
    },
    "kernelspec": {
      "name": "python3",
      "display_name": "Python 3"
    },
    "language_info": {
      "name": "python"
    }
  },
  "cells": [
    {
      "cell_type": "code",
      "execution_count": null,
      "metadata": {
        "id": "wyefISs_wJGK"
      },
      "outputs": [],
      "source": [
        "def cualesvocales(p):\n",
        "    letraa = []\n",
        "    letrae = []\n",
        "    letrai = []\n",
        "    letrao = []\n",
        "    letrau = []\n",
        "    for x in range(len(p)):\n",
        "        if p[x] == \"a\":\n",
        "            letraa.append(p[x])\n",
        "        elif p[x] == \"e\" or p[x] == \"E\":\n",
        "            letrae.append(p[x])\n",
        "        elif p[x] == \"i\" or p[x] == \"I\":\n",
        "            letrai.append(p[x])\n",
        "        elif p[x] == \"o\" or p[x] == \"O\":\n",
        "            letrao.append(p[x])\n",
        "        elif p[x] == \"u\" or p[x] == \"U\":\n",
        "            letrau.append(p[x])\n",
        "    \n",
        "    print(\"A = \", len(letraa), \"E = \", len(letrae), \"I = \", len(letrai), \"O = \", len(letrao), \"U = \", len(letrau))"
      ]
    }
  ]
}