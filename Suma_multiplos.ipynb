{
  "nbformat": 4,
  "nbformat_minor": 0,
  "metadata": {
    "colab": {
      "provenance": []
    },
    "kernelspec": {
      "name": "python3",
      "display_name": "Python 3"
    },
    "language_info": {
      "name": "python"
    }
  },
  "cells": [
    {
      "cell_type": "code",
      "execution_count": null,
      "metadata": {
        "id": "wyefISs_wJGK"
      },
      "outputs": [],
      "source": [
        "def suma_multiplos():\n",
        "  cuenta = 0\n",
        "  suma = 0\n",
        "  numero = 0\n",
        "  while cuenta < 1000:\n",
        "    if numero % 3 == 0 or numero % 5 == 0:\n",
        "      suma = suma + numero\n",
        "    numero += 1\n",
        "    cuenta += 1\n",
        "  print(suma)\n",
        "\n",
        "def main():\n",
        "  suma_multiplos()\n",
        "main()\n",
        "\n"
      ]
    }
  ]
}