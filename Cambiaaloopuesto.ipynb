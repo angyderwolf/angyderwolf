{
  "nbformat": 4,
  "nbformat_minor": 0,
  "metadata": {
    "colab": {
      "provenance": []
    },
    "kernelspec": {
      "name": "python3",
      "display_name": "Python 3"
    },
    "language_info": {
      "name": "python"
    }
  },
  "cells": [
    {
      "cell_type": "code",
      "execution_count": null,
      "metadata": {
        "id": "wyefISs_wJGK"
      },
      "outputs": [],
      "source": [
        "def cambiaalopuesto(palabra):\n",
        "    palabra2 = \"\"\n",
        "    for x in range(len(palabra)):\n",
        "        if palabra[x].isupper():\n",
        "            palabra2 += palabra[x].lower()\n",
        "        else:\n",
        "            palabra2 += palabra[x].upper()\n",
        "\n",
        "    print(palabra2)\n"
      ]
    }
  ]
}