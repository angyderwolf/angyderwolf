{
  "nbformat": 4,
  "nbformat_minor": 0,
  "metadata": {
    "colab": {
      "provenance": []
    },
    "kernelspec": {
      "name": "python3",
      "display_name": "Python 3"
    },
    "language_info": {
      "name": "python"
    }
  },
  "cells": [
    {
      "cell_type": "code",
      "execution_count": null,
      "metadata": {
        "id": "wyefISs_wJGK"
      },
      "outputs": [],
      "source": [
        "def ventas3prod():\n",
        "    salir = \"no\"\n",
        "    ventastotales = []\n",
        "    ventas2 = []\n",
        "    while salir == \"no\" or salir == \"No\":\n",
        "        pregunta = input(\"Desea dar de alta un producto con sus 3 ventas: \")\n",
        "        if pregunta == \"no\" or pregunta == \"No\":\n",
        "            break\n",
        "        dato = input(\"Nombre del producto: \")\n",
        "        ventastotales.append(dato)\n",
        "        venta1 = input(\"Dime valor de la venta 1: \")\n",
        "        ventas2.append(venta1)\n",
        "        venta2 = input(\"Dime valor de la venta 2: \")\n",
        "        ventas2.append(venta2)\n",
        "        venta3 = input(\"Dime valor de la venta 3: \")\n",
        "        ventas2.append(venta3)\n",
        "        ventastotales.append(ventas2)\n",
        "    print(ventastotales)"
      ]
    }
  ]
}