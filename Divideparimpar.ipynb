{
  "nbformat": 4,
  "nbformat_minor": 0,
  "metadata": {
    "colab": {
      "provenance": []
    },
    "kernelspec": {
      "name": "python3",
      "display_name": "Python 3"
    },
    "language_info": {
      "name": "python"
    }
  },
  "cells": [
    {
      "cell_type": "code",
      "execution_count": null,
      "metadata": {
        "id": "wyefISs_wJGK"
      },
      "outputs": [],
      "source": [
        "def divideparimpar(n):\n",
        "    par = []\n",
        "    imp = []\n",
        "    for i in range(len(n)):\n",
        "        if n[i] % 2 == 0:\n",
        "            imp.append(n[i])\n",
        "        else:\n",
        "            par.append(n[i])\n",
        "\n",
        "    print(imp)\n",
        "    print(par)"
      ]
    }
  ]
}