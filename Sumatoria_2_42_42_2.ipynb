{
  "nbformat": 4,
  "nbformat_minor": 0,
  "metadata": {
    "colab": {
      "provenance": []
    },
    "kernelspec": {
      "name": "python3",
      "display_name": "Python 3"
    },
    "language_info": {
      "name": "python"
    }
  },
  "cells": [
    {
      "cell_type": "code",
      "execution_count": null,
      "metadata": {
        "id": "wyefISs_wJGK"
      },
      "outputs": [],
      "source": [
        "def sumatoria():\n",
        "  suma = 0\n",
        "  denom = 42\n",
        "  for i in range(2, 43,4):\n",
        "    suma = suma + (i / denom)\n",
        "    denom -= 4\n",
        "    \n",
        "    \n",
        "  print (round(suma,2))\n",
        "\n",
        "def main():\n",
        "  sumatoria()\n",
        "\n",
        "main()\n",
        "main()\n",
        "\n"
      ]
    }
  ]
}