{
  "nbformat": 4,
  "nbformat_minor": 0,
  "metadata": {
    "colab": {
      "provenance": []
    },
    "kernelspec": {
      "name": "python3",
      "display_name": "Python 3"
    },
    "language_info": {
      "name": "python"
    }
  },
  "cells": [
    {
      "cell_type": "code",
      "execution_count": null,
      "metadata": {
        "id": "wyefISs_wJGK"
      },
      "outputs": [],
      "source": [
        "def SUMAR(x,y,z):\n",
        "    if x == 13:\n",
        "        return y+z\n",
        "    elif y == 13:\n",
        "        return x+z\n",
        "    elif z == 13:\n",
        "        return x+y\n",
        "    else:\n",
        "        return x+y+z"
      ]
    }
  ]
}