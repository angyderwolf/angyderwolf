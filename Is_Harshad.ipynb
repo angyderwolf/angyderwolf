{
  "nbformat": 4,
  "nbformat_minor": 0,
  "metadata": {
    "colab": {
      "provenance": []
    },
    "kernelspec": {
      "name": "python3",
      "display_name": "Python 3"
    },
    "language_info": {
      "name": "python"
    }
  },
  "cells": [
    {
      "cell_type": "code",
      "execution_count": null,
      "metadata": {
        "id": "wyefISs_wJGK"
      },
      "outputs": [],
      "source": [
        "def resultado_cadena():\n",
        "  list = [1,2]\n",
        "  for i in range(3,1000000):\n",
        "    cuenta = 0\n",
        "    while i > len(list):\n",
        "      if i % 2 == 0:\n",
        "        i = i/2\n",
        "      else:\n",
        "        i = 3*i+1\n",
        "      cuenta += 1\n",
        "    list.append(cuenta + list[int(i)-1])\n",
        "  return list.index(max(list))+1\n",
        "\n",
        "def main():\n",
        "  print(resultado_cadena())\n",
        "main()\n",
        "\n"
      ]
    }
  ]
}